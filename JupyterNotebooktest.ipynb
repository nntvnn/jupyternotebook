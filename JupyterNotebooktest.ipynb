{
    "cells": [
        {
            "metadata": {
                "collapsed": true
            },
            "cell_type": "markdown",
            "source": "# My Jupyter Notebook on IBM Watson Studio"
        },
        {
            "metadata": {},
            "cell_type": "markdown",
            "source": "**NGUYEN NGOC THACH"
        },
        {
            "metadata": {},
            "cell_type": "markdown",
            "source": "I wan to be a data scientist "
        },
        {
            "metadata": {},
            "cell_type": "markdown",
            "source": "*I am interested in data science because it is useful for my job"
        },
        {
            "metadata": {},
            "cell_type": "markdown",
            "source": "### This is result of formular"
        },
        {
            "metadata": {},
            "cell_type": "code",
            "source": "1+1",
            "execution_count": 1,
            "outputs": [
                {
                    "output_type": "execute_result",
                    "execution_count": 1,
                    "data": {
                        "text/plain": "2"
                    },
                    "metadata": {}
                }
            ]
        },
        {
            "metadata": {},
            "cell_type": "markdown",
            "source": "***\n\nHere is some important text!\n\n***\n`Here is some code!`\n* **This is a bullet item with bold words**\n* *This is a bullet item with italicized words*\n<a href=\"url\" target=\"_https://github.com/nntvnn/bigdata\">hyperlinked words</a>"
        },
        {
            "metadata": {},
            "cell_type": "code",
            "source": "",
            "execution_count": null,
            "outputs": []
        }
    ],
    "metadata": {
        "kernelspec": {
            "name": "python3",
            "display_name": "Python 3.7",
            "language": "python"
        },
        "language_info": {
            "name": "python",
            "version": "3.7.10",
            "mimetype": "text/x-python",
            "codemirror_mode": {
                "name": "ipython",
                "version": 3
            },
            "pygments_lexer": "ipython3",
            "nbconvert_exporter": "python",
            "file_extension": ".py"
        }
    },
    "nbformat": 4,
    "nbformat_minor": 1
}